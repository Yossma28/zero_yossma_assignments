{
 "cells": [
  {
   "cell_type": "code",
   "execution_count": 1,
   "metadata": {},
   "outputs": [],
   "source": [
    "#Replicated the code for class and object with the help of link provided under the assignnment heading"
   ]
  },
  {
   "cell_type": "code",
   "execution_count": 2,
   "metadata": {},
   "outputs": [
    {
     "name": "stdout",
     "output_type": "stream",
     "text": [
      "Name: Iman \n",
      " Sex: female \n",
      " relation: Twin sister\n",
      "Iman is related to yossma as her Twin sister\n"
     ]
    }
   ],
   "source": [
    "#Define a class in Python\n",
    "class Family:\n",
    "    def __init__(self, name, sex, relation):\n",
    "        # data members (instance variables)\n",
    "        self.name = name\n",
    "        self.sex = sex\n",
    "        self.relation = relation\n",
    "\n",
    "    # Behavior (instance methods)\n",
    "    def show(self):\n",
    "        print('Name:',self.name , \"\\n\",'Sex:', self.sex, \"\\n\",'relation:', self.relation )\n",
    "\n",
    "    # Behavior (instance methods)\n",
    "    def work(self):\n",
    "        print(self.name, 'is related to yossma as her', self.relation)\n",
    "        \n",
    "# Creating an instance of the Family class\n",
    "person1 = Family(\"Iman\", \"female\", \"Twin sister\")\n",
    "\n",
    "# Calling the show method\n",
    "person1.show()\n",
    "\n",
    "# Calling the work method\n",
    "person1.work()"
   ]
  },
  {
   "cell_type": "code",
   "execution_count": 3,
   "metadata": {},
   "outputs": [
    {
     "name": "stdout",
     "output_type": "stream",
     "text": [
      "Member: Iman waheed 23\n",
      "Member relation: Twin Sister\n",
      "Member: Muhmmad Abdullah 24\n",
      "Member relation: Brother\n",
      "Member: Abdul Waheed 53\n",
      "Member relation: Father\n",
      "Member: Shahnaz Haider 52\n",
      "Member relation: Mother\n",
      "Member: Yossma Waheed 23\n",
      "Member relation: Princess\n"
     ]
    }
   ],
   "source": [
    "#Create object of a class\n",
    "class Members:\n",
    "    # class variables\n",
    "    Member_relation = 'Twin Sister'\n",
    "\n",
    "    # constructor\n",
    "    def __init__(self, name, age):\n",
    "        # instance variables\n",
    "        self.name = name\n",
    "        self.age = age\n",
    "\n",
    "m1 = Members(\"Iman waheed\", 23)\n",
    "# access instance variables\n",
    "print('Member:', m1.name, m1.age)\n",
    "\n",
    "# access class variable\n",
    "print('Member relation:', Members.Member_relation)\n",
    "\n",
    "# Modify instance variables\n",
    "m1.name = 'Muhmmad Abdullah'\n",
    "m1.age = 24\n",
    "print('Member:', m1.name, m1.age)\n",
    "\n",
    "# Modify class variables\n",
    "Members.Member_relation = 'Brother'\n",
    "print('Member relation:', Members.Member_relation)\n",
    "# Modify instance variables\n",
    "m1.name = 'Abdul Waheed'\n",
    "m1.age = 53\n",
    "print('Member:', m1.name, m1.age)\n",
    "\n",
    "# Modify class variables\n",
    "Members.Member_relation = 'Father'\n",
    "print('Member relation:', Members.Member_relation)\n",
    "# Modify instance variables\n",
    "m1.name = 'Shahnaz Haider'\n",
    "m1.age = 52\n",
    "print('Member:', m1.name, m1.age)\n",
    "\n",
    "# Modify class variables\n",
    "Members.Member_relation = 'Mother'\n",
    "print('Member relation:', Members.Member_relation)\n",
    "# Modify instance variables\n",
    "m1.name = 'Yossma Waheed'\n",
    "m1.age = 23\n",
    "print('Member:', m1.name, m1.age)\n",
    "\n",
    "# Modify class variables\n",
    "Members.Member_relation = 'Princess'\n",
    "print('Member relation:', Members.Member_relation)\n"
   ]
  },
  {
   "cell_type": "code",
   "execution_count": 4,
   "metadata": {},
   "outputs": [
    {
     "name": "stdout",
     "output_type": "stream",
     "text": [
      "Family Member: Abdullah 23 Sister\n",
      "Family Member: Abdullah 24 Brother\n"
     ]
    }
   ],
   "source": [
    "# class methods demo\n",
    "class Family:\n",
    "    # class variable\n",
    "    family_member = 'Sister'\n",
    "\n",
    "    # constructor\n",
    "    def __init__(self, name, age):\n",
    "        # instance variables\n",
    "        self.name = name\n",
    "        self.age = age\n",
    "\n",
    "    # instance method\n",
    "    def show(self):\n",
    "        # access instance variables and class variables\n",
    "        print('Family Member:', self.name, self.age, Family.family_member)\n",
    "\n",
    "    # instance method\n",
    "    def change_age(self, new_age):\n",
    "        # modify instance variable\n",
    "        self.age = new_age\n",
    "\n",
    "    # class method\n",
    "    @classmethod\n",
    "    def modify_family_member(cls, new_name):\n",
    "        # modify class variable\n",
    "        cls.family_member = new_name\n",
    "\n",
    "f1 = Family(\"Abdullah\", 23)\n",
    "\n",
    "# call instance methods\n",
    "f1.show()\n",
    "f1.change_age(24)\n",
    "\n",
    "# call class method\n",
    "Family.modify_family_member('Brother')\n",
    "# call instance methods\n",
    "f1.show()"
   ]
  },
  {
   "cell_type": "code",
   "execution_count": 5,
   "metadata": {},
   "outputs": [
    {
     "name": "stdout",
     "output_type": "stream",
     "text": [
      "Name is Iman and hobby is sleeping\n"
     ]
    }
   ],
   "source": [
    "#Modify object properties\n",
    "class Hobby:\n",
    "    def __init__(self, name, hobby):\n",
    "        self.name = name\n",
    "        self.hobby = hobby\n",
    "\n",
    "    def show(self):\n",
    "        print(\"Name is\", self.name, \"and hobby is\", self.hobby)\n",
    "\n",
    "# creating object of the class\n",
    "obj = Hobby(\"Yossma\", \"sleeping\")\n",
    "\n",
    "# Modifying Object Properties\n",
    "obj.name = \"Iman\"\n",
    "\n",
    "# calling the instance method using the object obj\n",
    "obj.show()\n",
    "# Output Fruit is strawberry and Color is red"
   ]
  },
  {
   "cell_type": "code",
   "execution_count": 6,
   "metadata": {},
   "outputs": [
    {
     "ename": "SyntaxError",
     "evalue": "unterminated string literal (detected at line 18) (2274500125.py, line 18)",
     "output_type": "error",
     "traceback": [
      "\u001b[1;36m  Cell \u001b[1;32mIn[6], line 18\u001b[1;36m\u001b[0m\n\u001b[1;33m    '\u001b[0m\n\u001b[1;37m    ^\u001b[0m\n\u001b[1;31mSyntaxError\u001b[0m\u001b[1;31m:\u001b[0m unterminated string literal (detected at line 18)\n"
     ]
    }
   ],
   "source": [
    "#Delete object properties\n",
    "class Hobby:\n",
    "    def __init__(self, name, hobby):\n",
    "        self.name = name\n",
    "        self.hobby = hobby\n",
    "\n",
    "    def show(self):\n",
    "        print(\"Name is\", self.name, \"and Hobby is\", self.hobby)\n",
    "\n",
    "# creating object of the class\n",
    "obj = Hobby(\"Yossma\", \"sleeping\")\n",
    "\n",
    "# Deleting Object Properties\n",
    "del obj.name\n",
    "\n",
    "# Accessing object properties after deleting\n",
    "print(obj.name)\n",
    "'"
   ]
  },
  {
   "cell_type": "code",
   "execution_count": null,
   "metadata": {},
   "outputs": [
    {
     "name": "stdout",
     "output_type": "stream",
     "text": [
      "Company is  British American Tobacco Company\n"
     ]
    },
    {
     "ename": "NameError",
     "evalue": "name 'emp' is not defined",
     "output_type": "error",
     "traceback": [
      "\u001b[1;31m---------------------------------------------------------------------------\u001b[0m",
      "\u001b[1;31mNameError\u001b[0m                                 Traceback (most recent call last)",
      "Cell \u001b[1;32mIn[49], line 15\u001b[0m\n\u001b[0;32m     12\u001b[0m \u001b[38;5;28;01mdel\u001b[39;00m emp\n\u001b[0;32m     14\u001b[0m \u001b[38;5;66;03m# Accessing after delete object\u001b[39;00m\n\u001b[1;32m---> 15\u001b[0m emp\u001b[38;5;241m.\u001b[39mshow()\n",
      "\u001b[1;31mNameError\u001b[0m: name 'emp' is not defined"
     ]
    }
   ],
   "source": [
    "#Deleting object\n",
    "class Job:\n",
    "    company = \"British American Tobacco Company\"\n",
    "\n",
    "    def show(self):\n",
    "        print(\"Company is \", self.company)\n",
    "\n",
    "emp = Job()\n",
    "emp.show()\n",
    "\n",
    "# delete object\n",
    "del emp\n",
    "\n",
    "# Accessing after delete object\n",
    "emp.show()\n",
    " "
   ]
  },
  {
   "cell_type": "code",
   "execution_count": 7,
   "metadata": {},
   "outputs": [
    {
     "name": "stdout",
     "output_type": "stream",
     "text": [
      "Requirement already satisfied: nbconvert in c:\\users\\yossm\\anaconda3\\lib\\site-packages (6.5.4)\n",
      "Collecting PyPDF2\n",
      "  Obtaining dependency information for PyPDF2 from https://files.pythonhosted.org/packages/8e/5e/c86a5643653825d3c913719e788e41386bee415c2b87b4f955432f2de6b2/pypdf2-3.0.1-py3-none-any.whl.metadata\n",
      "  Downloading pypdf2-3.0.1-py3-none-any.whl.metadata (6.8 kB)\n",
      "Requirement already satisfied: lxml in c:\\users\\yossm\\anaconda3\\lib\\site-packages (from nbconvert) (4.9.3)\n",
      "Requirement already satisfied: beautifulsoup4 in c:\\users\\yossm\\anaconda3\\lib\\site-packages (from nbconvert) (4.12.2)\n",
      "Requirement already satisfied: bleach in c:\\users\\yossm\\anaconda3\\lib\\site-packages (from nbconvert) (4.1.0)\n",
      "Requirement already satisfied: defusedxml in c:\\users\\yossm\\anaconda3\\lib\\site-packages (from nbconvert) (0.7.1)\n",
      "Requirement already satisfied: entrypoints>=0.2.2 in c:\\users\\yossm\\anaconda3\\lib\\site-packages (from nbconvert) (0.4)\n",
      "Requirement already satisfied: jinja2>=3.0 in c:\\users\\yossm\\anaconda3\\lib\\site-packages (from nbconvert) (3.1.2)\n",
      "Requirement already satisfied: jupyter-core>=4.7 in c:\\users\\yossm\\anaconda3\\lib\\site-packages (from nbconvert) (5.3.0)\n",
      "Requirement already satisfied: jupyterlab-pygments in c:\\users\\yossm\\anaconda3\\lib\\site-packages (from nbconvert) (0.1.2)\n",
      "Requirement already satisfied: MarkupSafe>=2.0 in c:\\users\\yossm\\anaconda3\\lib\\site-packages (from nbconvert) (2.1.1)\n",
      "Requirement already satisfied: mistune<2,>=0.8.1 in c:\\users\\yossm\\anaconda3\\lib\\site-packages (from nbconvert) (0.8.4)\n",
      "Requirement already satisfied: nbclient>=0.5.0 in c:\\users\\yossm\\anaconda3\\lib\\site-packages (from nbconvert) (0.5.13)\n",
      "Requirement already satisfied: nbformat>=5.1 in c:\\users\\yossm\\anaconda3\\lib\\site-packages (from nbconvert) (5.9.2)\n",
      "Requirement already satisfied: packaging in c:\\users\\yossm\\anaconda3\\lib\\site-packages (from nbconvert) (23.1)\n",
      "Requirement already satisfied: pandocfilters>=1.4.1 in c:\\users\\yossm\\anaconda3\\lib\\site-packages (from nbconvert) (1.5.0)\n",
      "Requirement already satisfied: pygments>=2.4.1 in c:\\users\\yossm\\anaconda3\\lib\\site-packages (from nbconvert) (2.15.1)\n",
      "Requirement already satisfied: tinycss2 in c:\\users\\yossm\\anaconda3\\lib\\site-packages (from nbconvert) (1.2.1)\n",
      "Requirement already satisfied: traitlets>=5.0 in c:\\users\\yossm\\anaconda3\\lib\\site-packages (from nbconvert) (5.7.1)\n",
      "Requirement already satisfied: platformdirs>=2.5 in c:\\users\\yossm\\anaconda3\\lib\\site-packages (from jupyter-core>=4.7->nbconvert) (3.10.0)\n",
      "Requirement already satisfied: pywin32>=300 in c:\\users\\yossm\\anaconda3\\lib\\site-packages (from jupyter-core>=4.7->nbconvert) (305.1)\n",
      "Requirement already satisfied: jupyter-client>=6.1.5 in c:\\users\\yossm\\anaconda3\\lib\\site-packages (from nbclient>=0.5.0->nbconvert) (7.4.9)\n",
      "Requirement already satisfied: nest-asyncio in c:\\users\\yossm\\anaconda3\\lib\\site-packages (from nbclient>=0.5.0->nbconvert) (1.5.6)\n",
      "Requirement already satisfied: fastjsonschema in c:\\users\\yossm\\anaconda3\\lib\\site-packages (from nbformat>=5.1->nbconvert) (2.16.2)\n",
      "Requirement already satisfied: jsonschema>=2.6 in c:\\users\\yossm\\anaconda3\\lib\\site-packages (from nbformat>=5.1->nbconvert) (4.17.3)\n",
      "Requirement already satisfied: soupsieve>1.2 in c:\\users\\yossm\\anaconda3\\lib\\site-packages (from beautifulsoup4->nbconvert) (2.4)\n",
      "Requirement already satisfied: six>=1.9.0 in c:\\users\\yossm\\anaconda3\\lib\\site-packages (from bleach->nbconvert) (1.16.0)\n",
      "Requirement already satisfied: webencodings in c:\\users\\yossm\\anaconda3\\lib\\site-packages (from bleach->nbconvert) (0.5.1)\n",
      "Requirement already satisfied: attrs>=17.4.0 in c:\\users\\yossm\\anaconda3\\lib\\site-packages (from jsonschema>=2.6->nbformat>=5.1->nbconvert) (22.1.0)\n",
      "Requirement already satisfied: pyrsistent!=0.17.0,!=0.17.1,!=0.17.2,>=0.14.0 in c:\\users\\yossm\\anaconda3\\lib\\site-packages (from jsonschema>=2.6->nbformat>=5.1->nbconvert) (0.18.0)\n",
      "Requirement already satisfied: python-dateutil>=2.8.2 in c:\\users\\yossm\\anaconda3\\lib\\site-packages (from jupyter-client>=6.1.5->nbclient>=0.5.0->nbconvert) (2.8.2)\n",
      "Requirement already satisfied: pyzmq>=23.0 in c:\\users\\yossm\\anaconda3\\lib\\site-packages (from jupyter-client>=6.1.5->nbclient>=0.5.0->nbconvert) (23.2.0)\n",
      "Requirement already satisfied: tornado>=6.2 in c:\\users\\yossm\\anaconda3\\lib\\site-packages (from jupyter-client>=6.1.5->nbclient>=0.5.0->nbconvert) (6.3.2)\n",
      "Downloading pypdf2-3.0.1-py3-none-any.whl (232 kB)\n",
      "   ---------------------------------------- 0.0/232.6 kB ? eta -:--:--\n",
      "   ---------------------------------------- 0.0/232.6 kB ? eta -:--:--\n",
      "   - -------------------------------------- 10.2/232.6 kB ? eta -:--:--\n",
      "   - -------------------------------------- 10.2/232.6 kB ? eta -:--:--\n",
      "   ----- --------------------------------- 30.7/232.6 kB 163.8 kB/s eta 0:00:02\n",
      "   ----- --------------------------------- 30.7/232.6 kB 163.8 kB/s eta 0:00:02\n",
      "   ------ -------------------------------- 41.0/232.6 kB 163.4 kB/s eta 0:00:02\n",
      "   ------------ -------------------------- 71.7/232.6 kB 245.8 kB/s eta 0:00:01\n",
      "   ------------------ ------------------- 112.6/232.6 kB 344.8 kB/s eta 0:00:01\n",
      "   ------------------------- ------------ 153.6/232.6 kB 437.1 kB/s eta 0:00:01\n",
      "   ---------------------------- --------- 174.1/232.6 kB 419.0 kB/s eta 0:00:01\n",
      "   -------------------------------------- 232.6/232.6 kB 526.9 kB/s eta 0:00:00\n",
      "Installing collected packages: PyPDF2\n",
      "Successfully installed PyPDF2-3.0.1\n",
      "Note: you may need to restart the kernel to use updated packages.\n"
     ]
    }
   ],
   "source": [
    "pip install nbconvert PyPDF2"
   ]
  },
  {
   "cell_type": "code",
   "execution_count": null,
   "metadata": {},
   "outputs": [],
   "source": []
  }
 ],
 "metadata": {
  "kernelspec": {
   "display_name": "base",
   "language": "python",
   "name": "python3"
  },
  "language_info": {
   "codemirror_mode": {
    "name": "ipython",
    "version": 3
   },
   "file_extension": ".py",
   "mimetype": "text/x-python",
   "name": "python",
   "nbconvert_exporter": "python",
   "pygments_lexer": "ipython3",
   "version": "3.11.5"
  }
 },
 "nbformat": 4,
 "nbformat_minor": 2
}
