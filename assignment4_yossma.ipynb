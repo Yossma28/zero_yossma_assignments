{
 "cells": [
  {
   "cell_type": "code",
   "execution_count": null,
   "metadata": {},
   "outputs": [],
   "source": [
    "#Replicated the code for class and object with the help of link provided under the assignnment heading"
   ]
  },
  {
   "cell_type": "code",
   "execution_count": 40,
   "metadata": {},
   "outputs": [
    {
     "name": "stdout",
     "output_type": "stream",
     "text": [
      "Name: Iman \n",
      " Sex: female \n",
      " relation: Twin sister\n",
      "Iman is related to yossma as her Twin sister\n"
     ]
    }
   ],
   "source": [
    "#Define a class in Python\n",
    "class Family:\n",
    "    def __init__(self, name, sex, relation):\n",
    "        # data members (instance variables)\n",
    "        self.name = name\n",
    "        self.sex = sex\n",
    "        self.relation = relation\n",
    "\n",
    "    # Behavior (instance methods)\n",
    "    def show(self):\n",
    "        print('Name:',self.name , \"\\n\",'Sex:', self.sex, \"\\n\",'relation:', self.relation )\n",
    "\n",
    "    # Behavior (instance methods)\n",
    "    def work(self):\n",
    "        print(self.name, 'is related to yossma as her', self.relation)\n",
    "        \n",
    "# Creating an instance of the Family class\n",
    "person1 = Family(\"Iman\", \"female\", \"Twin sister\")\n",
    "\n",
    "# Calling the show method\n",
    "person1.show()\n",
    "\n",
    "# Calling the work method\n",
    "person1.work()"
   ]
  },
  {
   "cell_type": "code",
   "execution_count": 41,
   "metadata": {},
   "outputs": [
    {
     "name": "stdout",
     "output_type": "stream",
     "text": [
      "Member: Iman waheed 23\n",
      "Member relation: Twin Sister\n",
      "Member: Muhmmad Abdullah 24\n",
      "Member relation: Brother\n",
      "Member: Abdul Waheed 53\n",
      "Member relation: Father\n",
      "Member: Shahnaz Haider 52\n",
      "Member relation: Mother\n",
      "Member: Yossma Waheed 23\n",
      "Member relation: Princess\n"
     ]
    }
   ],
   "source": [
    "#Create object of a class\n",
    "class Members:\n",
    "    # class variables\n",
    "    Member_relation = 'Twin Sister'\n",
    "\n",
    "    # constructor\n",
    "    def __init__(self, name, age):\n",
    "        # instance variables\n",
    "        self.name = name\n",
    "        self.age = age\n",
    "\n",
    "m1 = Members(\"Iman waheed\", 23)\n",
    "# access instance variables\n",
    "print('Member:', m1.name, m1.age)\n",
    "\n",
    "# access class variable\n",
    "print('Member relation:', Members.Member_relation)\n",
    "\n",
    "# Modify instance variables\n",
    "m1.name = 'Muhmmad Abdullah'\n",
    "m1.age = 24\n",
    "print('Member:', m1.name, m1.age)\n",
    "\n",
    "# Modify class variables\n",
    "Members.Member_relation = 'Brother'\n",
    "print('Member relation:', Members.Member_relation)\n",
    "# Modify instance variables\n",
    "m1.name = 'Abdul Waheed'\n",
    "m1.age = 53\n",
    "print('Member:', m1.name, m1.age)\n",
    "\n",
    "# Modify class variables\n",
    "Members.Member_relation = 'Father'\n",
    "print('Member relation:', Members.Member_relation)\n",
    "# Modify instance variables\n",
    "m1.name = 'Shahnaz Haider'\n",
    "m1.age = 52\n",
    "print('Member:', m1.name, m1.age)\n",
    "\n",
    "# Modify class variables\n",
    "Members.Member_relation = 'Mother'\n",
    "print('Member relation:', Members.Member_relation)\n",
    "# Modify instance variables\n",
    "m1.name = 'Yossma Waheed'\n",
    "m1.age = 23\n",
    "print('Member:', m1.name, m1.age)\n",
    "\n",
    "# Modify class variables\n",
    "Members.Member_relation = 'Princess'\n",
    "print('Member relation:', Members.Member_relation)\n"
   ]
  },
  {
   "cell_type": "code",
   "execution_count": 38,
   "metadata": {},
   "outputs": [
    {
     "name": "stdout",
     "output_type": "stream",
     "text": [
      "Family Member: Abdullah 23 Sister\n",
      "Family Member: Abdullah 24 Brother\n"
     ]
    }
   ],
   "source": [
    "# class methods demo\n",
    "class Family:\n",
    "    # class variable\n",
    "    family_member = 'Sister'\n",
    "\n",
    "    # constructor\n",
    "    def __init__(self, name, age):\n",
    "        # instance variables\n",
    "        self.name = name\n",
    "        self.age = age\n",
    "\n",
    "    # instance method\n",
    "    def show(self):\n",
    "        # access instance variables and class variables\n",
    "        print('Family Member:', self.name, self.age, Family.family_member)\n",
    "\n",
    "    # instance method\n",
    "    def change_age(self, new_age):\n",
    "        # modify instance variable\n",
    "        self.age = new_age\n",
    "\n",
    "    # class method\n",
    "    @classmethod\n",
    "    def modify_family_member(cls, new_name):\n",
    "        # modify class variable\n",
    "        cls.family_member = new_name\n",
    "\n",
    "f1 = Family(\"Abdullah\", 23)\n",
    "\n",
    "# call instance methods\n",
    "f1.show()\n",
    "f1.change_age(24)\n",
    "\n",
    "# call class method\n",
    "Family.modify_family_member('Brother')\n",
    "# call instance methods\n",
    "f1.show()"
   ]
  },
  {
   "cell_type": "code",
   "execution_count": 44,
   "metadata": {},
   "outputs": [
    {
     "name": "stdout",
     "output_type": "stream",
     "text": [
      "Name is Iman and hobby is sleeping\n"
     ]
    }
   ],
   "source": [
    "#Modify object properties\n",
    "class Hobby:\n",
    "    def __init__(self, name, hobby):\n",
    "        self.name = name\n",
    "        self.hobby = hobby\n",
    "\n",
    "    def show(self):\n",
    "        print(\"Name is\", self.name, \"and hobby is\", self.hobby)\n",
    "\n",
    "# creating object of the class\n",
    "obj = Hobby(\"Yossma\", \"sleeping\")\n",
    "\n",
    "# Modifying Object Properties\n",
    "obj.name = \"Iman\"\n",
    "\n",
    "# calling the instance method using the object obj\n",
    "obj.show()\n",
    "# Output Fruit is strawberry and Color is red"
   ]
  },
  {
   "cell_type": "code",
   "execution_count": 46,
   "metadata": {},
   "outputs": [
    {
     "ename": "AttributeError",
     "evalue": "'Hobby' object has no attribute 'name'",
     "output_type": "error",
     "traceback": [
      "\u001b[1;31m---------------------------------------------------------------------------\u001b[0m",
      "\u001b[1;31mAttributeError\u001b[0m                            Traceback (most recent call last)",
      "Cell \u001b[1;32mIn[46], line 17\u001b[0m\n\u001b[0;32m     14\u001b[0m \u001b[38;5;28;01mdel\u001b[39;00m obj\u001b[38;5;241m.\u001b[39mname\n\u001b[0;32m     16\u001b[0m \u001b[38;5;66;03m# Accessing object properties after deleting\u001b[39;00m\n\u001b[1;32m---> 17\u001b[0m \u001b[38;5;28mprint\u001b[39m(obj\u001b[38;5;241m.\u001b[39mname)\n",
      "\u001b[1;31mAttributeError\u001b[0m: 'Hobby' object has no attribute 'name'"
     ]
    }
   ],
   "source": [
    "#Delete object properties\n",
    "class Hobby:\n",
    "    def __init__(self, name, hobby):\n",
    "        self.name = name\n",
    "        self.hobby = hobby\n",
    "\n",
    "    def show(self):\n",
    "        print(\"Name is\", self.name, \"and Hobby is\", self.hobby)\n",
    "\n",
    "# creating object of the class\n",
    "obj = Hobby(\"Yossma\", \"sleeping\")\n",
    "\n",
    "# Deleting Object Properties\n",
    "del obj.name\n",
    "\n",
    "# Accessing object properties after deleting\n",
    "print(obj.name)\n",
    "'"
   ]
  },
  {
   "cell_type": "code",
   "execution_count": 49,
   "metadata": {},
   "outputs": [
    {
     "name": "stdout",
     "output_type": "stream",
     "text": [
      "Company is  British American Tobacco Company\n"
     ]
    },
    {
     "ename": "NameError",
     "evalue": "name 'emp' is not defined",
     "output_type": "error",
     "traceback": [
      "\u001b[1;31m---------------------------------------------------------------------------\u001b[0m",
      "\u001b[1;31mNameError\u001b[0m                                 Traceback (most recent call last)",
      "Cell \u001b[1;32mIn[49], line 15\u001b[0m\n\u001b[0;32m     12\u001b[0m \u001b[38;5;28;01mdel\u001b[39;00m emp\n\u001b[0;32m     14\u001b[0m \u001b[38;5;66;03m# Accessing after delete object\u001b[39;00m\n\u001b[1;32m---> 15\u001b[0m emp\u001b[38;5;241m.\u001b[39mshow()\n",
      "\u001b[1;31mNameError\u001b[0m: name 'emp' is not defined"
     ]
    }
   ],
   "source": [
    "#Deleting object\n",
    "class Job:\n",
    "    company = \"British American Tobacco Company\"\n",
    "\n",
    "    def show(self):\n",
    "        print(\"Company is \", self.company)\n",
    "\n",
    "emp = Job()\n",
    "emp.show()\n",
    "\n",
    "# delete object\n",
    "del emp\n",
    "\n",
    "# Accessing after delete object\n",
    "emp.show()\n",
    " "
   ]
  },
  {
   "cell_type": "code",
   "execution_count": null,
   "metadata": {},
   "outputs": [],
   "source": []
  }
 ],
 "metadata": {
  "kernelspec": {
   "display_name": "base",
   "language": "python",
   "name": "python3"
  },
  "language_info": {
   "codemirror_mode": {
    "name": "ipython",
    "version": 3
   },
   "file_extension": ".py",
   "mimetype": "text/x-python",
   "name": "python",
   "nbconvert_exporter": "python",
   "pygments_lexer": "ipython3",
   "version": "3.11.5"
  }
 },
 "nbformat": 4,
 "nbformat_minor": 2
}
