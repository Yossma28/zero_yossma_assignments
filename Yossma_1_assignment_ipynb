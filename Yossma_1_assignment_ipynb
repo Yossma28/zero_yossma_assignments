#There are different types of data types in Python. Some built-in Python data types are:
#Numeric data types: int, float, complex
#String data types: str
#Sequence types: list, tuple, range
#Binary types: bytes, bytearray, memoryview
#Mapping data type: dict
#Boolean type: bool
#Set data types: set, frozenset

