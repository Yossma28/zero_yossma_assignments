{
 "cells": [
  {
   "cell_type": "code",
   "execution_count": 13,
   "metadata": {},
   "outputs": [
    {
     "name": "stdout",
     "output_type": "stream",
     "text": [
      "Variable x is of type int\n"
     ]
    }
   ],
   "source": [
    "# Variable\n",
    "x = 123\n",
    "\n",
    "# Assert variable type\n",
    "assert isinstance(x, int), \"Variable x is not of type int\"\n",
    "print(\"Variable x is of type int\")"
   ]
  },
  {
   "cell_type": "code",
   "execution_count": 14,
   "metadata": {},
   "outputs": [
    {
     "name": "stdout",
     "output_type": "stream",
     "text": [
      "Variable x is of type int\n"
     ]
    }
   ],
   "source": [
    "# Variable\n",
    "x = \"123\"\n",
    "\n",
    "# Assert variable type\n",
    "assert isinstance(x, int), \"Variable x is not of type int\"\n",
    "print(\"Variable x is of type int\")"
   ]
  },
  {
   "cell_type": "code",
   "execution_count": null,
   "metadata": {},
   "outputs": [],
   "source": []
  }
 ],
 "metadata": {
  "kernelspec": {
   "display_name": "base",
   "language": "python",
   "name": "python3"
  },
  "language_info": {
   "codemirror_mode": {
    "name": "ipython",
    "version": 3
   },
   "file_extension": ".py",
   "mimetype": "text/x-python",
   "name": "python",
   "nbconvert_exporter": "python",
   "pygments_lexer": "ipython3",
   "version": "3.11.5"
  }
 },
 "nbformat": 4,
 "nbformat_minor": 2
}
